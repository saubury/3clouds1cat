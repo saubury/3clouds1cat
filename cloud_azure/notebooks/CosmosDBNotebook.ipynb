{
  "cells": [
    {
      "cell_type": "code",
      "source": [
        "%%sql --database taskDatabase --container MyHTTPCollection \r\n",
        "SELECT c.payload_fields.Latitude, c.payload_fields.Longitude, c.metadata.time FROM c"
      ],
      "outputs": [],
      "execution_count": null,
      "metadata": {
        "collapsed": true,
        "jupyter": {
          "source_hidden": false,
          "outputs_hidden": false
        },
        "nteract": {
          "transient": {
            "deleting": false
          }
        },
        "execution": {
          "iopub.status.busy": "2020-12-30T05:20:17.726Z",
          "iopub.status.idle": "2020-12-30T05:20:17.845Z",
          "shell.execute_reply": "2020-12-30T05:20:17.838Z",
          "iopub.execute_input": "2020-12-30T05:20:17.818Z"
        }
      }
    },
    {
      "cell_type": "code",
      "source": [
        "%%sql --database taskDatabase --container MyHTTPCollection --output df_cosmos\r\n",
        "SELECT c.payload_fields.Latitude, c.payload_fields.Longitude, c.metadata.time FROM c"
      ],
      "outputs": [],
      "execution_count": null,
      "metadata": {
        "collapsed": true,
        "jupyter": {
          "source_hidden": false,
          "outputs_hidden": false
        },
        "nteract": {
          "transient": {
            "deleting": false
          }
        },
        "execution": {
          "iopub.status.busy": "2020-12-30T05:20:41.824Z",
          "iopub.status.idle": "2020-12-30T05:20:41.838Z",
          "shell.execute_reply": "2020-12-30T05:20:41.843Z",
          "iopub.execute_input": "2020-12-30T05:20:41.832Z"
        }
      }
    },
    {
      "cell_type": "code",
      "source": [
        "df_cosmos.head(20)"
      ],
      "outputs": [],
      "execution_count": null,
      "metadata": {
        "collapsed": true,
        "jupyter": {
          "source_hidden": false,
          "outputs_hidden": false
        },
        "nteract": {
          "transient": {
            "deleting": false
          }
        },
        "execution": {
          "iopub.status.busy": "2020-12-30T05:20:47.343Z",
          "iopub.execute_input": "2020-12-30T05:20:47.348Z",
          "iopub.status.idle": "2020-12-30T05:20:47.419Z",
          "shell.execute_reply": "2020-12-30T05:20:47.424Z"
        }
      }
    },
    {
      "cell_type": "code",
      "source": [
        "import sys\r\n",
        "!{sys.executable} -m pip install bokeh==1.4.0 --user"
      ],
      "outputs": [],
      "execution_count": null,
      "metadata": {
        "collapsed": true,
        "jupyter": {
          "source_hidden": false,
          "outputs_hidden": false
        },
        "nteract": {
          "transient": {
            "deleting": false
          }
        },
        "execution": {
          "iopub.status.busy": "2020-12-30T05:27:25.759Z",
          "iopub.execute_input": "2020-12-30T05:27:25.824Z",
          "shell.execute_reply": "2020-12-30T05:27:33.706Z",
          "iopub.status.idle": "2020-12-30T05:27:33.751Z"
        }
      }
    },
    {
      "cell_type": "code",
      "source": [
        "import urllib.request, json \r\n",
        "import geopandas as gpd\r\n",
        "\r\n",
        "# Load country information for mapping\r\n",
        "countries = gpd.read_file(\"https://cosmosnotebooksdata.blob.core.windows.net/notebookdata/countries.json\")\r\n",
        "\r\n",
        "# Merge the countries dataframe with our data in Azure Cosmos DB, joining on country code\r\n",
        "df_merged = countries.merge(df_revenue, left_on = 'admin', right_on = 'Country', how='left')\r\n",
        "\r\n",
        "# Convert to GeoJSON so bokeh can plot it\r\n",
        "merged_json = json.loads(df_merged.to_json())\r\n",
        "json_data = json.dumps(merged_json)"
      ],
      "outputs": [],
      "execution_count": null,
      "metadata": {
        "collapsed": true,
        "jupyter": {
          "source_hidden": false,
          "outputs_hidden": false
        },
        "nteract": {
          "transient": {
            "deleting": false
          }
        },
        "execution": {
          "iopub.status.busy": "2020-12-30T05:31:13.332Z",
          "iopub.execute_input": "2020-12-30T05:31:13.379Z",
          "iopub.status.idle": "2020-12-30T05:31:17.275Z",
          "shell.execute_reply": "2020-12-30T05:31:17.332Z"
        }
      }
    },
    {
      "cell_type": "code",
      "source": [],
      "outputs": [],
      "execution_count": null,
      "metadata": {
        "collapsed": true,
        "jupyter": {
          "source_hidden": false,
          "outputs_hidden": false
        },
        "nteract": {
          "transient": {
            "deleting": false
          }
        }
      }
    },
    {
      "cell_type": "code",
      "source": [],
      "outputs": [],
      "execution_count": null,
      "metadata": {
        "collapsed": true,
        "jupyter": {
          "source_hidden": false,
          "outputs_hidden": false
        },
        "nteract": {
          "transient": {
            "deleting": false
          }
        }
      }
    },
    {
      "cell_type": "code",
      "source": [
        "from bokeh.plotting import figure, output_file, show\r\n",
        "from bokeh.tile_providers import CARTODBPOSITRON, get_provider\r\n",
        "from bokeh.tile_providers import get_provider, Vendors\r\n",
        "\r\n",
        "output_file(\"tile.html\")\r\n",
        "\r\n",
        "tile_provider = get_provider(Vendors.CARTODBPOSITRON)\r\n",
        "\r\n",
        "# range bounds supplied in web mercator coordinates\r\n",
        "p = figure(x_range=(-2000000, 6000000), y_range=(-1000000, 7000000),\r\n",
        "           x_axis_type=\"mercator\", y_axis_type=\"mercator\")\r\n",
        "p.add_tile(tile_provider)\r\n",
        "\r\n",
        "show(p)"
      ],
      "outputs": [],
      "execution_count": null,
      "metadata": {
        "collapsed": true,
        "jupyter": {
          "source_hidden": false,
          "outputs_hidden": false
        },
        "nteract": {
          "transient": {
            "deleting": false
          }
        },
        "execution": {
          "iopub.status.busy": "2020-12-30T05:30:08.115Z",
          "iopub.execute_input": "2020-12-30T05:30:08.157Z",
          "iopub.status.idle": "2020-12-30T05:30:08.173Z",
          "shell.execute_reply": "2020-12-30T05:30:08.180Z"
        }
      }
    },
    {
      "cell_type": "code",
      "source": [
        "from bokeh.io import output_file, show\r\n",
        "from bokeh.models import ColumnDataSource, GMapOptions\r\n",
        "from bokeh.plotting import gmap\r\n",
        "\r\n",
        "output_file(\"gmap.html\")\r\n",
        "\r\n",
        "map_options = GMapOptions(lat=30.2861, lng=-97.7394, map_type=\"roadmap\", zoom=11)\r\n",
        "\r\n",
        "# For GMaps to function, Google requires you obtain and enable an API key:\r\n",
        "#\r\n",
        "#     https://developers.google.com/maps/documentation/javascript/get-api-key\r\n",
        "#\r\n",
        "# Replace the value below with your personal API key:\r\n",
        "p = gmap(\"GOOGLE_API_KEY\", map_options, title=\"Austin\")\r\n",
        "\r\n",
        "source = ColumnDataSource(\r\n",
        "    data=dict(lat=[ 30.29,  30.20,  30.29],\r\n",
        "              lon=[-97.70, -97.74, -97.78])\r\n",
        ")\r\n",
        "\r\n",
        "p.circle(x=\"lon\", y=\"lat\", size=15, fill_color=\"blue\", fill_alpha=0.8, source=source)\r\n",
        "\r\n",
        "show(p)"
      ],
      "outputs": [],
      "execution_count": null,
      "metadata": {
        "collapsed": true,
        "jupyter": {
          "source_hidden": false,
          "outputs_hidden": false
        },
        "nteract": {
          "transient": {
            "deleting": false
          }
        },
        "execution": {
          "iopub.status.busy": "2020-12-30T05:27:47.241Z",
          "iopub.execute_input": "2020-12-30T05:27:47.245Z",
          "iopub.status.idle": "2020-12-30T05:27:47.256Z",
          "shell.execute_reply": "2020-12-30T05:27:47.263Z"
        }
      }
    }
  ],
  "metadata": {
    "language_info": {
      "name": "python",
      "version": "3.7",
      "mimetype": "application/json",
      "file_extension": "ipynb"
    },
    "nteract": {
      "version": "dataExplorer 1.0"
    }
  },
  "nbformat": 4,
  "nbformat_minor": 0
}