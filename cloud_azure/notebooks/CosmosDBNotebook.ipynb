{
  "cells": [
    {
      "cell_type": "code",
      "source": [
        "%%sql --database taskDatabase --container MyHTTPCollection \r\n",
        "SELECT c.payload_fields FROM c"
      ],
      "outputs": [],
      "execution_count": null,
      "metadata": {
        "collapsed": true,
        "jupyter": {
          "source_hidden": false,
          "outputs_hidden": false
        },
        "nteract": {
          "transient": {
            "deleting": false
          }
        },
        "execution": {
          "iopub.status.busy": "2020-12-30T04:08:55.130Z",
          "iopub.status.idle": "2020-12-30T04:08:55.203Z",
          "shell.execute_reply": "2020-12-30T04:08:55.205Z",
          "iopub.execute_input": "2020-12-30T04:08:55.142Z"
        }
      }
    },
    {
      "cell_type": "code",
      "source": [
        "%%sql --database taskDatabase --container MyHTTPCollection --output df_cosmos\r\n",
        "SELECT * FROM c"
      ],
      "outputs": [],
      "execution_count": null,
      "metadata": {
        "collapsed": true,
        "jupyter": {
          "source_hidden": false,
          "outputs_hidden": false
        },
        "nteract": {
          "transient": {
            "deleting": false
          }
        }
      }
    },
    {
      "cell_type": "code",
      "source": [
        "df_cosmos.head(10)"
      ],
      "outputs": [],
      "execution_count": null,
      "metadata": {
        "collapsed": true,
        "jupyter": {
          "source_hidden": false,
          "outputs_hidden": false
        },
        "nteract": {
          "transient": {
            "deleting": false
          }
        },
        "execution": {
          "iopub.status.busy": "2020-12-30T04:09:07.980Z",
          "iopub.execute_input": "2020-12-30T04:09:07.983Z",
          "iopub.status.idle": "2020-12-30T04:09:08.015Z",
          "shell.execute_reply": "2020-12-30T04:09:08.020Z"
        }
      }
    }
  ],
  "metadata": {
    "language_info": {
      "name": "python",
      "version": "3.7",
      "mimetype": "application/json",
      "file_extension": "ipynb"
    },
    "nteract": {
      "version": "dataExplorer 1.0"
    }
  },
  "nbformat": 4,
  "nbformat_minor": 0
}