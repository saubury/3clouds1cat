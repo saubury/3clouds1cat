{
  "cells": [
    {
      "cell_type": "code",
      "execution_count": null,
      "metadata": {
        "collapsed": true,
        "execution": {
          "iopub.execute_input": "2020-12-30T23:09:05.204Z",
          "iopub.status.busy": "2020-12-30T23:09:05.191Z",
          "iopub.status.idle": "2020-12-30T23:09:05.212Z",
          "shell.execute_reply": "2020-12-30T23:09:05.217Z"
        },
        "jupyter": {
          "outputs_hidden": false,
          "source_hidden": false
        },
        "nteract": {
          "transient": {
            "deleting": false
          }
        },
        "trusted": true
      },
      "outputs": [],
      "source": "%%sql --database CatLocationDatabase --container CatLocationCollection --output df_cosmos\r\nSELECT c.payload_fields.Latitude as lat, c.payload_fields.Longitude as lon, c.metadata.time FROM c"
    },
    {
      "cell_type": "code",
      "execution_count": null,
      "metadata": {
        "collapsed": true,
        "execution": {
          "iopub.execute_input": "2020-12-30T23:09:07.649Z",
          "iopub.status.busy": "2020-12-30T23:09:07.643Z",
          "iopub.status.idle": "2020-12-30T23:09:07.674Z",
          "shell.execute_reply": "2020-12-30T23:09:07.679Z"
        },
        "jupyter": {
          "outputs_hidden": false,
          "source_hidden": false
        },
        "nteract": {
          "transient": {
            "deleting": false
          }
        },
        "trusted": true
      },
      "outputs": [],
      "source": "df_cosmos.head(20)"
    },
    {
      "cell_type": "code",
      "execution_count": null,
      "metadata": {
        "collapsed": true,
        "jupyter": {
          "outputs_hidden": false,
          "source_hidden": false
        },
        "nteract": {
          "transient": {
            "deleting": false
          }
        },
        "trusted": true
      },
      "outputs": [],
      "source": "# This may be necessary to ensure bokeh is available\r\nimport sys\r\n!{sys.executable} -m pip install bokeh==1.4.0 --user"
    },
    {
      "cell_type": "code",
      "execution_count": null,
      "metadata": {
        "collapsed": true,
        "execution": {
          "iopub.execute_input": "2020-12-30T23:09:11.212Z",
          "iopub.status.busy": "2020-12-30T23:09:11.208Z",
          "iopub.status.idle": "2020-12-30T23:09:11.597Z",
          "shell.execute_reply": "2020-12-30T23:09:11.603Z"
        },
        "jupyter": {
          "outputs_hidden": false,
          "source_hidden": false
        },
        "nteract": {
          "transient": {
            "deleting": false
          }
        },
        "trusted": true
      },
      "outputs": [],
      "source": "from bokeh.io import output_file, show\r\nfrom bokeh.models import ColumnDataSource, GMapOptions\r\nfrom bokeh.plotting import gmap\r\nfrom bokeh.io import output_notebook\r\n\r\noutput_file(\"gmap.html\")\r\n\r\n# Add Google Map API key here\r\n# Instructions at https://developers.google.com/maps/documentation/javascript/get-api-key\r\ngooglemapsapi = 'KEYHERE'\r\nmap_options = GMapOptions(lat=-33.8, lng=151.0, map_type=\"roadmap\", zoom=12)\r\n\r\np = gmap(googlemapsapi, map_options, title=\"Sydney\")\r\n\r\nsource = ColumnDataSource(\r\n    data=dict(lat=df_cosmos.head(20)['lat'],\r\n              lon=df_cosmos.head(20)['lon'])\r\n)\r\n\r\np.circle(x=\"lon\", y=\"lat\", size=15, fill_color=\"blue\", fill_alpha=0.8, source=source)\r\n\r\n#Display figure inline in Jupyter Notebook.\r\noutput_notebook()\r\n\r\nshow(p)"
    }
  ],
  "metadata": {
    "language_info": {
      "file_extension": "ipynb",
      "mimetype": "application/json",
      "name": "python",
      "version": "3.7"
    },
    "nteract": {
      "version": "dataExplorer 1.0"
    }
  },
  "nbformat": 4,
  "nbformat_minor": 4
}