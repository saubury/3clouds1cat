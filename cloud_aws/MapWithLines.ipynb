{
 "cells": [
  {
   "cell_type": "markdown",
   "metadata": {},
   "source": [
    "# Mapping with plotly express\n",
    "plotly.express"
   ]
  },
  {
   "cell_type": "code",
   "execution_count": null,
   "metadata": {},
   "outputs": [],
   "source": [
    "import boto3\n",
    "from boto3.dynamodb.conditions import Key, Attr\n",
    "import pandas as pd\n",
    "import plotly.offline as pyo\n",
    "import plotly.express as px\n",
    "\n",
    "from datetime import datetime, timedelta\n",
    "offset_hrs=-11\n",
    "\n",
    "def get_utc_string(from_tz):\n",
    "    from_tz_utc = datetime.strptime(from_tz, \"%Y-%m-%d %H:%M\") + timedelta(hours=offset_hrs) \n",
    "    ret_utc = from_tz_utc.strftime(\"%Y-%m-%dT%H:%M:%S\")\n",
    "    return ret_utc\n",
    "\n",
    "def get_local_string(from_utc):\n",
    "    from_tz_utc = datetime.strptime(from_utc[:-4], \"%Y-%m-%dT%H:%M:%S.%f\") - timedelta(hours=offset_hrs)\n",
    "    ret_local = from_tz_utc.strftime(\"%Y/%m/%d %H:%M\")\n",
    "    return ret_local\n",
    "\n",
    "time_from=get_utc_string('2021-01-01 14:00')\n",
    "time_to=get_utc_string('2021-01-01 16:10')\n",
    "\n",
    "dynamodb = boto3.resource('dynamodb')\n",
    "table = dynamodb.Table('saubury-001')\n",
    "\n",
    "fe = Key('time').between(time_from, time_to);\n",
    "response = table.scan(FilterExpression=fe)\n",
    "\n",
    "\n",
    "items = response['Items']\n",
    "lat_array = []\n",
    "lon_array = []\n",
    "vistime_array = []\n",
    "\n",
    "for item in items:\n",
    "    lat_array.append(item['Latitude'])\n",
    "    lon_array.append(item['Longitude'])\n",
    "    vistime_array.append(get_local_string(item['time']))\n",
    "\n",
    "\n",
    "mydict = {'lat': lat_array, 'lon': lon_array, 'time' : vistime_array}\n",
    "mydf = pd.DataFrame(data=mydict)\n",
    "# print(mydf)\n",
    "\n",
    "\n",
    "fig = px.line_mapbox(df, lat=\"lat\", lon=\"lon\", hover_name=\"time\", zoom=3, height=300)\n",
    "fig.update_layout(mapbox_style=\"stamen-terrain\", mapbox_zoom=12, mapbox_center_lat = -33.8,\n",
    "    margin={\"r\":0,\"t\":0,\"l\":0,\"b\":0})\n",
    "\n",
    "fig.show()"
   ]
  },
  {
   "cell_type": "code",
   "execution_count": null,
   "metadata": {},
   "outputs": [],
   "source": []
  }
 ],
 "metadata": {
  "kernelspec": {
   "display_name": "conda_python3",
   "language": "python",
   "name": "conda_python3"
  },
  "language_info": {
   "codemirror_mode": {
    "name": "ipython",
    "version": 3
   },
   "file_extension": ".py",
   "mimetype": "text/x-python",
   "name": "python",
   "nbconvert_exporter": "python",
   "pygments_lexer": "ipython3",
   "version": "3.6.10"
  }
 },
 "nbformat": 4,
 "nbformat_minor": 4
}
