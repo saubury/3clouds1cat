{
 "cells": [
  {
   "cell_type": "markdown",
   "metadata": {},
   "source": [
    "# Some text"
   ]
  },
  {
   "cell_type": "code",
   "execution_count": null,
   "metadata": {},
   "outputs": [],
   "source": [
    "!pip install chart-studio"
   ]
  },
  {
   "cell_type": "code",
   "execution_count": null,
   "metadata": {},
   "outputs": [],
   "source": [
    "def configure_plotly_browser_state():\n",
    "  import IPython\n",
    "  display(IPython.core.display.HTML('''\n",
    "        <script src=\"/static/components/requirejs/require.js\"></script>\n",
    "        <script>\n",
    "          requirejs.config({\n",
    "            paths: {\n",
    "              base: '/static/base',\n",
    "              plotly: 'https://cdn.plot.ly/plotly-latest.min.js?noext',\n",
    "            },\n",
    "          });\n",
    "        </script>\n",
    "        '''))"
   ]
  },
  {
   "cell_type": "code",
   "execution_count": null,
   "metadata": {},
   "outputs": [],
   "source": [
    "import chart_studio.plotly as py\n",
    "import numpy as np\n",
    "from plotly.offline import init_notebook_mode, iplot\n",
    "from plotly.graph_objs import  Contours, Histogram2dContour, Marker, Scatter\n",
    "\n",
    "configure_plotly_browser_state()\n",
    "\n",
    "init_notebook_mode(connected=False)\n",
    "\n",
    "x = np.random.randn(2000)\n",
    "y = np.random.randn(2000)\n",
    "iplot([Histogram2dContour(x=x, y=y, contours=Contours(coloring='heatmap')),\n",
    "       Scatter(x=x, y=y, mode='markers', marker=Marker(color='white', size=3, opacity=0.3))], show_link=False)\n",
    "\n"
   ]
  },
  {
   "cell_type": "code",
   "execution_count": null,
   "metadata": {},
   "outputs": [],
   "source": [
    "import boto3\n",
    "import base64\n",
    "from botocore.exceptions import ClientError\n",
    "import json\n",
    "import chart_studio.plotly as py\n",
    "import plotly.graph_objs as go\n",
    "\n",
    "\n",
    "def get_secret():\n",
    "    secret_name = \"202012-awsmap\"\n",
    "    region_name = \"us-west-2\"\n",
    "\n",
    "    session = boto3.session.Session()\n",
    "    client = session.client(service_name='secretsmanager',   region_name=region_name)\n",
    "    get_secret_value_response = client.get_secret_value(SecretId=secret_name)\n",
    "\n",
    "    secret_value_json_object = json.loads(get_secret_value_response['SecretString'])\n",
    "    return secret_value_json_object\n",
    "\n",
    "secret_value_json_object = get_secret()\n",
    "\n",
    "plotly_username = secret_value_json_object['plotly_username']\n",
    "plotly_api_key = secret_value_json_object['plotly_api_key']\n",
    "mapbox_access_token = secret_value_json_object['mapbox_access_token']\n",
    "py.sign_in(plotly_username, plotly_api_key)\n"
   ]
  },
  {
   "cell_type": "code",
   "execution_count": null,
   "metadata": {},
   "outputs": [],
   "source": [
    "import boto3\n",
    "from boto3.dynamodb.conditions import Key, Attr\n",
    "\n",
    "dynamodb = boto3.resource('dynamodb')\n",
    "table = dynamodb.Table('saubury-001')\n",
    "\n",
    "fe = Key('time').between('2020-12-27T22:45', '2020-12-28T05:00');\n",
    "response = table.scan(FilterExpression=fe)\n",
    "\n",
    "\n",
    "items = response['Items']\n",
    "lat_array = []\n",
    "lon_array = []\n",
    "\n",
    "for item in items:\n",
    "    lat_array.append(item['Latitude'])\n",
    "    lon_array.append(item['Longitude'])\n",
    "\n",
    "data = [\n",
    "    go.Scattermapbox(\n",
    "        lat=lat_array,\n",
    "        lon=lon_array,\n",
    "        mode='markers',\n",
    "        marker=dict(\n",
    "            size=14\n",
    "        ),\n",
    "        text=['foo', 'bar'],\n",
    "    )\n",
    "]\n",
    "\n",
    "layout = go.Layout(\n",
    "    autosize=True,\n",
    "    hovermode='closest',\n",
    "    mapbox=dict(\n",
    "        accesstoken=mapbox_access_token,\n",
    "        bearing=0,\n",
    "        center=dict(\n",
    "            lat=-33.805,\n",
    "            lon=151.0816\n",
    "        ),\n",
    "        pitch=0,\n",
    "        zoom=8\n",
    "    ),\n",
    ")\n",
    "\n",
    "fig = dict(data=data, layout=layout)\n",
    "\n",
    "py.iplot(fig, filename='Montreal Mapbox')"
   ]
  },
  {
   "cell_type": "code",
   "execution_count": null,
   "metadata": {},
   "outputs": [],
   "source": []
  }
 ],
 "metadata": {
  "kernelspec": {
   "display_name": "conda_python3",
   "language": "python",
   "name": "conda_python3"
  },
  "language_info": {
   "codemirror_mode": {
    "name": "ipython",
    "version": 3
   },
   "file_extension": ".py",
   "mimetype": "text/x-python",
   "name": "python",
   "nbconvert_exporter": "python",
   "pygments_lexer": "ipython3",
   "version": "3.6.10"
  }
 },
 "nbformat": 4,
 "nbformat_minor": 4
}
